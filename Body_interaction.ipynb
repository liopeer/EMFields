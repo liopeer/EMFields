{
 "cells": [
  {
   "cell_type": "code",
   "execution_count": 1,
   "id": "9c291121-6ee5-4d84-b019-2465cf2acf5c",
   "metadata": {},
   "outputs": [],
   "source": [
    "import numpy as np\n",
    "import matplotlib.pyplot as plt\n",
    "from scipy.optimize import curve_fit\n",
    "\n",
    "from import_raw_advanced import *"
   ]
  },
  {
   "cell_type": "markdown",
   "id": "39d1098b-ed96-4ff7-8937-1ba1e985c6ab",
   "metadata": {},
   "source": [
    "# Body Interaction"
   ]
  },
  {
   "cell_type": "code",
   "execution_count": 2,
   "id": "bae82d32-bd2e-4963-9d92-6b7fcd95b790",
   "metadata": {},
   "outputs": [],
   "source": [
    "# driver's head\n",
    "base = \"/Users/lionelpeer/polybox/ETH/HS21/EMFelderimAlltag/Messungen/Messungen2/Beschl/\"\n",
    "\n",
    "measurement = base + \"2021-11-26_Beschl_Kopf_Fahrer\"\n",
    "head_time, head_freq = data_import(measurement)\n",
    "\n",
    "# center console\n",
    "base = \"/Users/lionelpeer/polybox/ETH/HS21/EMFelderimAlltag/Messungen/Messungen1/Beschleunigung/\"\n",
    "\n",
    "measurement = base + \"2021-11-04_20-41-33_Beschl\"\n",
    "console_time, console_freq = data_import(measurement)\n",
    "\n",
    "# foot space Beifahrer\n",
    "measurement = base + \"2021-11-05_19-21-33_Beschl2\"\n",
    "foot_time, foot_freq = data_import(measurement)"
   ]
  },
  {
   "cell_type": "code",
   "execution_count": null,
   "id": "6a11e18d-3eee-4763-92ae-f4f946f364da",
   "metadata": {},
   "outputs": [],
   "source": []
  }
 ],
 "metadata": {
  "kernelspec": {
   "display_name": "Python 3 (ipykernel)",
   "language": "python",
   "name": "python3"
  },
  "language_info": {
   "codemirror_mode": {
    "name": "ipython",
    "version": 3
   },
   "file_extension": ".py",
   "mimetype": "text/x-python",
   "name": "python",
   "nbconvert_exporter": "python",
   "pygments_lexer": "ipython3",
   "version": "3.9.7"
  }
 },
 "nbformat": 4,
 "nbformat_minor": 5
}
