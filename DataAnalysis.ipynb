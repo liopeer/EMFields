{
 "cells": [
  {
   "cell_type": "code",
   "execution_count": 1,
   "id": "165cb740-f70f-415c-a2cb-5e45e03700d7",
   "metadata": {},
   "outputs": [],
   "source": [
    "import numpy as np\n",
    "import matplotlib.pyplot as plt"
   ]
  },
  {
   "cell_type": "code",
   "execution_count": 4,
   "id": "1864875b-6761-4b09-b0c2-db9f69d7bc68",
   "metadata": {},
   "outputs": [],
   "source": [
    "path = \"/Users/lionelpeer/polybox/ETH/HS21/EMFelderimAlltag/\"\n",
    "my_data = np.genfromtxt(path + 'Plot6_SPEC.csv', delimiter='\\t')"
   ]
  },
  {
   "cell_type": "code",
   "execution_count": 5,
   "id": "60c8dae3-ee57-474e-a499-2036272974f3",
   "metadata": {},
   "outputs": [
    {
     "data": {
      "text/plain": [
       "(1002, 5)"
      ]
     },
     "execution_count": 5,
     "metadata": {},
     "output_type": "execute_result"
    }
   ],
   "source": [
    "my_data.shape"
   ]
  },
  {
   "cell_type": "code",
   "execution_count": 7,
   "id": "8b72d6ef-2da2-4b9f-a872-80f7af6affa6",
   "metadata": {},
   "outputs": [],
   "source": [
    "my_data = my_data[1:]"
   ]
  },
  {
   "cell_type": "code",
   "execution_count": 8,
   "id": "f0bae384-4b04-41c9-b6e4-7a184767d559",
   "metadata": {},
   "outputs": [
    {
     "data": {
      "text/plain": [
       "(1001, 5)"
      ]
     },
     "execution_count": 8,
     "metadata": {},
     "output_type": "execute_result"
    }
   ],
   "source": [
    "my_data.shape"
   ]
  },
  {
   "cell_type": "code",
   "execution_count": 9,
   "id": "ee2a1253-5313-4954-901b-44ef5afd549b",
   "metadata": {},
   "outputs": [
    {
     "data": {
      "text/plain": [
       "array([[ 0.000000e+00,  1.384890e+01,  1.967188e+02, -1.019445e+02,\n",
       "         2.219972e+02],\n",
       "       [ 1.000000e+00,  6.690000e-02,  3.910000e-02,  8.000000e-03,\n",
       "         7.790000e-02],\n",
       "       [ 2.000000e+00,  9.950000e-02,  1.100000e-02,  1.630000e-02,\n",
       "         1.015000e-01],\n",
       "       ...,\n",
       "       [ 9.980000e+02,  9.000000e-04,  1.000000e-03,  4.600000e-03,\n",
       "         4.800000e-03],\n",
       "       [ 9.990000e+02,  2.200000e-03,  1.100000e-03,  1.080000e-02,\n",
       "         1.100000e-02],\n",
       "       [ 1.000000e+03,  2.400000e-03,  1.900000e-03,  1.970000e-02,\n",
       "         1.990000e-02]])"
      ]
     },
     "execution_count": 9,
     "metadata": {},
     "output_type": "execute_result"
    }
   ],
   "source": [
    "my_data"
   ]
  },
  {
   "cell_type": "code",
   "execution_count": null,
   "id": "a8222721-c660-4d47-942d-3e169e10ccee",
   "metadata": {},
   "outputs": [],
   "source": []
  }
 ],
 "metadata": {
  "kernelspec": {
   "display_name": "Python 3 (ipykernel)",
   "language": "python",
   "name": "python3"
  },
  "language_info": {
   "codemirror_mode": {
    "name": "ipython",
    "version": 3
   },
   "file_extension": ".py",
   "mimetype": "text/x-python",
   "name": "python",
   "nbconvert_exporter": "python",
   "pygments_lexer": "ipython3",
   "version": "3.9.7"
  }
 },
 "nbformat": 4,
 "nbformat_minor": 5
}
